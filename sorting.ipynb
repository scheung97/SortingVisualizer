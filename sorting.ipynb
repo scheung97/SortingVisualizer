{
 "cells": [
  {
   "attachments": {},
   "cell_type": "markdown",
   "metadata": {},
   "source": [
    "\n",
    "x-axis = Index\n",
    "y-axis = number value\n"
   ]
  },
  {
   "cell_type": "code",
   "execution_count": 1,
   "metadata": {},
   "outputs": [],
   "source": [
    "import matplotlib.pyplot as plt\n",
    "import numpy as np\n",
    "\n",
    "# import seaborn as sns\n"
   ]
  },
  {
   "cell_type": "code",
   "execution_count": 2,
   "metadata": {},
   "outputs": [
    {
     "name": "stdout",
     "output_type": "stream",
     "text": [
      "[502 867 738 953 938]\n"
     ]
    }
   ],
   "source": [
    "#create random array \n",
    "low = 1\n",
    "high = 1000\n",
    "size = 5  #1000\n",
    "\n",
    "# low <= randint <= high-1 (aka max = high-1)\n",
    "rand_array = np.random.randint(low, high, size) \n",
    "print(rand_array)"
   ]
  },
  {
   "cell_type": "code",
   "execution_count": 3,
   "metadata": {},
   "outputs": [
    {
     "name": "stdout",
     "output_type": "stream",
     "text": [
      "Input Array: [890 574 140  27 646]\n",
      "SelectionSort1 Array: [ 27 140 574 646 890]\n",
      "       SelectionSort2 Array: [ 27 140 574 646 890]\n"
     ]
    }
   ],
   "source": [
    "def SelectionSort1(arr): \n",
    "    for i in range(len(arr)): \n",
    "        for j in range(i+1,len(arr)): \n",
    "            if arr[i] > arr[j]: \n",
    "                arr[i], arr[j] = arr[j], arr[i]\n",
    "    return arr\n",
    "\n",
    "def SelectionSort2(arr): \n",
    "    for i in range(len(arr)): \n",
    "        min_idx = i\n",
    "        for j in range(i+1,len(arr)): \n",
    "            if arr[i] > arr[j]: \n",
    "                min_idx = j\n",
    "        arr[i], arr[min_idx] = arr[min_idx], arr[i]\n",
    "    return arr\n",
    "\n",
    "print(f\"Input Array: {rand_array}\")\n",
    "s_sort1_array = SelectionSort1(rand_array)\n",
    "s_sort2_array = SelectionSort2(rand_array)\n",
    "print(f\"SelectionSort1 Array: {s_sort1_array}\\n \\\n",
    "      SelectionSort2 Array: {s_sort2_array}\")\n",
    "\n"
   ]
  },
  {
   "cell_type": "code",
   "execution_count": 4,
   "metadata": {},
   "outputs": [
    {
     "name": "stdout",
     "output_type": "stream",
     "text": [
      "Input Array: [ 27 140 574 646 890]\n",
      "Insertion Sort Array: [ 27 140 574 646 890]\n"
     ]
    }
   ],
   "source": [
    "def InsertionSort(arr): \n",
    "    # https://www.tutorialspoint.com/data_structures_algorithms/insertion_sort_algorithm.htm\n",
    "    #choose an element\n",
    "    # shift all elements greater than the value \n",
    "    for i in range(len(arr)): \n",
    "        chosen_ele = arr[i]\n",
    "        location = i \n",
    "        while location > 0 and arr[location - 1] > chosen_ele: \n",
    "            arr[location] = arr[location-1]\n",
    "            location = location-1\n",
    "        arr[location] = chosen_ele\n",
    "    return arr\n",
    "\n",
    "print(f\"Input Array: {rand_array}\")\n",
    "insert_sort_array = InsertionSort(rand_array)\n",
    "print(f\"Insertion Sort Array: {insert_sort_array}\")"
   ]
  },
  {
   "cell_type": "code",
   "execution_count": 6,
   "metadata": {},
   "outputs": [
    {
     "name": "stdout",
     "output_type": "stream",
     "text": [
      "Input Array: [ 27 140 574 646 890]\n",
      "Merge Sort Array: [ 27 140 574 646 890]\n"
     ]
    }
   ],
   "source": [
    "def merge(arr, l, m, r): \n",
    "    # merges two subarrays of arr\n",
    "    n1 = m - l + 1  \n",
    "    n2 = r - m \n",
    "\n",
    "    tmpL = [0]*(n1)\n",
    "    tmpR = [0]*(n2)\n",
    "\n",
    "    for i in range(0, n1): \n",
    "        tmpL[i] = arr[l+i]\n",
    "    for j in range(0,n2): \n",
    "        tmpR[j] = arr[m + 1 + j]\n",
    "\n",
    "    # merge temps into main arr\n",
    "    i = 0\n",
    "    j = 0\n",
    "    k = l\n",
    "\n",
    "    while i < n1 and j < n2: \n",
    "        if tmpL[i] <= tmpR[j]: \n",
    "            arr[k] = tmpL[i]\n",
    "            i += 1\n",
    "        else: \n",
    "            arr[k] = tmpR[j]\n",
    "            j+=1\n",
    "        k+=1 \n",
    "\n",
    "    while i < n1:\n",
    "        arr[k] = tmpL[i]\n",
    "        i += 1\n",
    "        k += 1\n",
    "\n",
    "    while j < n2:\n",
    "        arr[k] = tmpR[j]\n",
    "        j += 1\n",
    "        k += 1\n",
    "\n",
    "    return arr\n",
    "\n",
    "def MergeSort(arr, l, r): \n",
    "    if l < r: \n",
    "        m = l+(r-l)//2\n",
    "        MergeSort(arr, l, m)\n",
    "        MergeSort(arr, m+1, r)\n",
    "        merge(arr, l, m, r)\n",
    "    return arr\n",
    "\n",
    "print(f\"Input Array: {rand_array}\")\n",
    "merge_sorted_arr = MergeSort(rand_array, l=0, r = len(rand_array)-1)\n",
    "print(f\"Merge Sort Array: {merge_sorted_arr}\")"
   ]
  },
  {
   "cell_type": "code",
   "execution_count": 13,
   "metadata": {},
   "outputs": [
    {
     "name": "stdout",
     "output_type": "stream",
     "text": [
      "Input Array: [502 867 738 953 938]\n",
      "Quicksort Sort Array: [502 738 867 938 953]\n"
     ]
    }
   ],
   "source": [
    "def partition(arr, low, high): \n",
    "    piv = arr[high]\n",
    "    i = low-1\n",
    "    for j in range(low, high): \n",
    "        if  arr[j] <= piv: \n",
    "            i+=1\n",
    "            arr[i], arr[j] = arr[j], arr[i]\n",
    "    arr[i+1], arr[high] = arr[high], arr[i+1]\n",
    "    return i+1\n",
    "\n",
    "def QuickSort(arr, low, high): \n",
    "    if low < high: \n",
    "        par = partition(arr, low, high)\n",
    "        QuickSort(arr, low, par - 1)\n",
    "        QuickSort(arr,  par + 1, high)\n",
    "    return arr \n",
    "\n",
    "\n",
    "print(f\"Input Array: {rand_array}\")\n",
    "quick_sorted_array = QuickSort(rand_array, low = 0, high = len(rand_array)-1)\n",
    "print(f\"Quick Sort Array: {quick_sorted_array}\")"
   ]
  },
  {
   "cell_type": "code",
   "execution_count": 17,
   "metadata": {},
   "outputs": [
    {
     "name": "stdout",
     "output_type": "stream",
     "text": [
      "Input Array: [502 738 867 938 953]\n",
      "Quicksort Sort Array: [502 738 867 938 953]\n"
     ]
    }
   ],
   "source": [
    "def heapify(arr, N, i): \n",
    "    largest = i # largest = root\n",
    "    l = 2*i + 1\n",
    "    r = 2*i + 2\n",
    "\n",
    "    # if left node exists and is bigger than root -> swap l and root\n",
    "    if l < N and arr[largest] < arr[l]: \n",
    "        largest = l\n",
    "    \n",
    "    # ifi right node exists and is bigger than root -> swawp r and root\n",
    "    if r < N and arr[largest] < arr[r]: \n",
    "        largest = r \n",
    "    \n",
    "    #change root if needed\n",
    "    if largest != i: \n",
    "        arr[largest], arr[i] = arr[i], arr[largest]\n",
    "        \n",
    "        #heapify the new root\n",
    "        heapify(arr, N, largest)\n",
    "    \n",
    "def HeapSort(arr): \n",
    "    N = len(arr)\n",
    "    for i in range(N//2 - 1, -1, -1): \n",
    "        heapify(arr, N, i)\n",
    "    \n",
    "    for i in range(N-1, 0, -1): \n",
    "        arr[i], arr[0] = arr[0], arr[i]\n",
    "        heapify(arr, i, 0)\n",
    "    return arr \n",
    "\n",
    "print(f\"Input Array: {rand_array}\")\n",
    "heap_sorted_array = HeapSort(rand_array)\n",
    "print(f\"Heap Sort Array: {heap_sorted_array}\")"
   ]
  },
  {
   "cell_type": "code",
   "execution_count": 18,
   "metadata": {},
   "outputs": [
    {
     "name": "stdout",
     "output_type": "stream",
     "text": [
      "Input Array: [502 738 867 938 953]\n",
      "Bubble Sort Array: [502 738 867 938 953]\n"
     ]
    }
   ],
   "source": [
    "def BubbleSort(arr): \n",
    "    # https://www.tutorialspoint.com/data_structures_algorithms/bubble_sort_algorithm.htm\n",
    "    for i in range(len(arr)): \n",
    "        for j in range(0, len(arr)-i-1): \n",
    "            if arr[j] > arr[j+1]: \n",
    "                arr[j], arr[j+1] = arr[j+1], arr[j]\n",
    "    return arr  \n",
    "\n",
    "print(f\"Input Array: {rand_array}\")\n",
    "bubble_sorted_array = BubbleSort(rand_array)\n",
    "print(f\"Bubble Sort Array: {bubble_sorted_array}\")"
   ]
  }
 ],
 "metadata": {
  "kernelspec": {
   "display_name": "Python 3",
   "language": "python",
   "name": "python3"
  },
  "language_info": {
   "codemirror_mode": {
    "name": "ipython",
    "version": 3
   },
   "file_extension": ".py",
   "mimetype": "text/x-python",
   "name": "python",
   "nbconvert_exporter": "python",
   "pygments_lexer": "ipython3",
   "version": "3.10.10"
  },
  "orig_nbformat": 4
 },
 "nbformat": 4,
 "nbformat_minor": 2
}
