{
 "cells": [
  {
   "attachments": {},
   "cell_type": "markdown",
   "metadata": {},
   "source": [
    "\n",
    "x-axis = Index\n",
    "y-axis = number value\n"
   ]
  },
  {
   "cell_type": "code",
   "execution_count": 7,
   "metadata": {},
   "outputs": [],
   "source": [
    "import matplotlib.pyplot as plt\n",
    "import numpy as np\n",
    "# import seaborn as sns\n"
   ]
  },
  {
   "cell_type": "code",
   "execution_count": 30,
   "metadata": {},
   "outputs": [
    {
     "name": "stdout",
     "output_type": "stream",
     "text": [
      "[450 740 613 281 467]\n"
     ]
    }
   ],
   "source": [
    "#create random array \n",
    "low = 1\n",
    "high = 1000\n",
    "size = 5  #1000\n",
    "\n",
    "# low <= randint <= high-1 (aka max = high-1)\n",
    "rand_array = np.random.randint(low, high, size) \n",
    "print(rand_array)"
   ]
  },
  {
   "cell_type": "code",
   "execution_count": 43,
   "metadata": {},
   "outputs": [
    {
     "name": "stdout",
     "output_type": "stream",
     "text": [
      "Input Array: [281 450 467 613 740]\n",
      "SelectionSort1 Array: [281 450 467 613 740]\n",
      "       SelectionSort2 Array: [281 450 467 613 740]\n"
     ]
    }
   ],
   "source": [
    "def SelectionSort1(arr): \n",
    "    for i in range(len(arr)): \n",
    "        for j in range(i+1,len(arr)): \n",
    "            if arr[i] > arr[j]: \n",
    "                arr[i], arr[j] = arr[j], arr[i]\n",
    "    return arr\n",
    "\n",
    "def SelectionSort2(arr): \n",
    "    for i in range(len(arr)): \n",
    "        min_idx = i\n",
    "        for j in range(i+1,len(arr)): \n",
    "            if arr[i] > arr[j]: \n",
    "                min_idx = j\n",
    "        arr[i], arr[min_idx] = arr[min_idx], arr[i]\n",
    "    return arr\n",
    "\n",
    "print(f\"Input Array: {rand_array}\")\n",
    "s_sort1_array = SelectionSort1(rand_array)\n",
    "s_sort2_array = SelectionSort2(rand_array)\n",
    "print(f\"SelectionSort1 Array: {s_sort1_array}\\n \\\n",
    "      SelectionSort2 Array: {s_sort2_array}\")\n",
    "\n"
   ]
  }
 ],
 "metadata": {
  "kernelspec": {
   "display_name": "Python 3",
   "language": "python",
   "name": "python3"
  },
  "language_info": {
   "codemirror_mode": {
    "name": "ipython",
    "version": 3
   },
   "file_extension": ".py",
   "mimetype": "text/x-python",
   "name": "python",
   "nbconvert_exporter": "python",
   "pygments_lexer": "ipython3",
   "version": "3.10.10"
  },
  "orig_nbformat": 4
 },
 "nbformat": 4,
 "nbformat_minor": 2
}
